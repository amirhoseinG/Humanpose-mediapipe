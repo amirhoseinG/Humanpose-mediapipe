{
  "cells": [
    {
      "cell_type": "code",
      "execution_count": null,
      "metadata": {
        "colab": {
          "base_uri": "https://localhost:8080/"
        },
        "id": "GQ18Kd5F3uKe",
        "outputId": "5a145d5d-1e86-4064-d1ba-fb2f56bd16b0"
      },
      "outputs": [],
      "source": [
        "!pip install mediapipe"
      ]
    },
    {
      "cell_type": "code",
      "execution_count": null,
      "metadata": {
        "id": "tHeuTOEWNOEx"
      },
      "outputs": [],
      "source": [
        "import math\n",
        "import cv2\n",
        "import numpy as np\n",
        "from time import time\n",
        "import mediapipe as mp\n",
        "import matplotlib.pyplot as plt"
      ]
    },
    {
      "cell_type": "code",
      "execution_count": null,
      "metadata": {
        "id": "NZA08SsXOAmG"
      },
      "outputs": [],
      "source": [
        "mp_pose = mp.solutions.pose\n",
        "\n",
        "# Setting up the Pose function.\n",
        "pose = mp_pose.Pose(static_image_mode=True, min_detection_confidence=0.5, model_complexity=2)\n",
        "\n",
        "# Initializing mediapipe drawing class, useful for annotation.\n",
        "mp_drawing = mp.solutions.drawing_utils "
      ]
    },
    {
      "cell_type": "code",
      "execution_count": null,
      "metadata": {
        "colab": {
          "base_uri": "https://localhost:8080/",
          "height": 591
        },
        "id": "ESLSw5NHOHja",
        "outputId": "2b84ee41-5ebb-4bd2-b9f6-b186e50158b0"
      },
      "outputs": [],
      "source": [
        "# Read an image from the specified path.\n",
        "sample_img = cv2.imread(\"/bin/1232.jpg\")\n",
        "\n",
        "# Specify a size of the figure.\n",
        "plt.figure(figsize = [10, 10])\n",
        "\n",
        "# Display the sample image, also convert BGR to RGB for display. \n",
        "plt.title(\"Sample Image\");plt.axis('off');plt.imshow(sample_img[:,:,::-1]);plt.show()"
      ]
    },
    {
      "cell_type": "code",
      "execution_count": null,
      "metadata": {
        "colab": {
          "base_uri": "https://localhost:8080/",
          "height": 1000
        },
        "id": "AQ-yY771O2DR",
        "outputId": "0421505e-77ae-44a3-b2ac-bfeb6df8cb39"
      },
      "outputs": [],
      "source": [
        "\n",
        "\n",
        "\n",
        "results = pose.process(cv2.cvtColor(sample_img, cv2.COLOR_BGR2RGB))\n",
        "\n",
        "# Check if any landmarks are found.\n",
        "if results.pose_landmarks:\n",
        "    \n",
        "    # Iterate two times as we only want to display first two landmarks.\n",
        "    for i in range(2):\n",
        "        \n",
        "        # Display the found normalized landmarks.\n",
        "        print(f'{mp_pose.PoseLandmark(i).name}:\\n{results.pose_landmarks.landmark[mp_pose.PoseLandmark(i).value]}') "
      ]
    },
    {
      "cell_type": "code",
      "execution_count": null,
      "metadata": {
        "colab": {
          "base_uri": "https://localhost:8080/"
        },
        "id": "7sSkXGxAO9Pa",
        "outputId": "9205113a-9e7b-4409-c95c-da5772978cce"
      },
      "outputs": [],
      "source": [
        "# Retrieve the height and width of the sample image.\n",
        "image_height, image_width, _ = sample_img.shape\n",
        "\n",
        "# Check if any landmarks are found.\n",
        "if results.pose_landmarks:\n",
        "    \n",
        "    # Iterate two times as we only want to display first two landmark.\n",
        "    for i in range(4):\n",
        "        print(image_width,image_height)\n",
        "        # Display the found landmarks after converting them into their original scale.\n",
        "        print(f'{mp_pose.PoseLandmark(i).name}:') \n",
        "        print(f'x: {results.pose_landmarks.landmark[mp_pose.PoseLandmark(i).value].x * image_width}')\n",
        "        print(f'y: {results.pose_landmarks.landmark[mp_pose.PoseLandmark(i).value].y * image_height}')\n",
        "        print(f'z: {results.pose_landmarks.landmark[mp_pose.PoseLandmark(i).value].z * image_width}')\n",
        "        print(f'visibility: {results.pose_landmarks.landmark[mp_pose.PoseLandmark(i).value].visibility}\\n')"
      ]
    },
    {
      "cell_type": "code",
      "execution_count": null,
      "metadata": {
        "colab": {
          "base_uri": "https://localhost:8080/",
          "height": 1000
        },
        "id": "hRCy49cAPF3e",
        "outputId": "d7028ec4-218b-4918-d0c7-752026076154"
      },
      "outputs": [],
      "source": [
        "# Create a copy of the sample image to draw landmarks on.\n",
        "img_copy = sample_img.copy()\n",
        "\n",
        "# Check if any landmarks are found.\n",
        "if results.pose_landmarks:\n",
        "    \n",
        "    # Draw Pose landmarks on the sample image.\n",
        "    mp_drawing.draw_landmarks(image=img_copy, landmark_list=results.pose_landmarks, connections=mp_pose.POSE_CONNECTIONS)\n",
        "       \n",
        "    # Specify a size of the figure.\n",
        "    fig = plt.figure(figsize = [20, 20])\n",
        "\n",
        "    # Display the output image with the landmarks drawn, also convert BGR to RGB for display. \n",
        "    plt.title(\"Output\");plt.axis('off');plt.imshow(img_copy[:,:,::-1]);plt.show()"
      ]
    },
    {
      "cell_type": "code",
      "execution_count": null,
      "metadata": {
        "colab": {
          "base_uri": "https://localhost:8080/",
          "height": 575
        },
        "id": "I5Po9BfTPaHF",
        "outputId": "4f4c2a29-9250-4fd2-9ae0-659dcfa0c512"
      },
      "outputs": [],
      "source": [
        "# Plot Pose landmarks in 3D.\n",
        "mp_drawing.plot_landmarks(results.pose_world_landmarks, mp_pose.POSE_CONNECTIONS)"
      ]
    }
  ],
  "metadata": {
    "accelerator": "GPU",
    "colab": {
      "provenance": []
    },
    "gpuClass": "standard",
    "kernelspec": {
      "display_name": "Python 3",
      "name": "python3"
    },
    "language_info": {
      "name": "python"
    }
  },
  "nbformat": 4,
  "nbformat_minor": 0
}
